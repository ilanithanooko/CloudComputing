{
  "nbformat": 4,
  "nbformat_minor": 0,
  "metadata": {
    "colab": {
      "provenance": []
    },
    "kernelspec": {
      "name": "python3",
      "display_name": "Python 3"
    },
    "language_info": {
      "name": "python"
    }
  },
  "cells": [
    {
      "cell_type": "code",
      "source": [
        "!pip install firebase\n",
        "from firebase import firebase\n",
        "FBconn = firebase.FirebaseApplication('https://ex-5-b6502-default-rtdb.firebaseio.com/',None)\n",
        "for i in range(2):\n",
        "  name = input(\"first name: \")\n",
        "  lastname = input(\"Last name: \")\n",
        "  mail = input(\"E-mail address: \")\n",
        "  course = input(\"courses: \")\n",
        "  favoriteShow = input(\"favorite show: \")\n",
        "  \n",
        "  data_to_upload = {\n",
        "      'Name' : name,\n",
        "      'LastName' : lastname,\n",
        "      'Mail' : mail,\n",
        "      'CoursesList' : course,\n",
        "      'FavShow' : favoriteShow\n",
        "  }\n",
        "  result = FBconn.post('/students/',data_to_upload)\n",
        "\n",
        "print(result)\n"
      ],
      "metadata": {
        "colab": {
          "base_uri": "https://localhost:8080/"
        },
        "id": "2UzgxjgnjfoW",
        "outputId": "6ce17e1f-2c09-4f9a-b745-bda2da6042d7"
      },
      "execution_count": 10,
      "outputs": [
        {
          "output_type": "stream",
          "name": "stdout",
          "text": [
            "Looking in indexes: https://pypi.org/simple, https://us-python.pkg.dev/colab-wheels/public/simple/\n",
            "Requirement already satisfied: firebase in /usr/local/lib/python3.9/dist-packages (4.0.1)\n",
            "Requirement already satisfied: requests in /usr/local/lib/python3.9/dist-packages (from firebase) (2.27.1)\n",
            "Requirement already satisfied: idna<4,>=2.5 in /usr/local/lib/python3.9/dist-packages (from requests->firebase) (3.4)\n",
            "Requirement already satisfied: charset-normalizer~=2.0.0 in /usr/local/lib/python3.9/dist-packages (from requests->firebase) (2.0.12)\n",
            "Requirement already satisfied: urllib3<1.27,>=1.21.1 in /usr/local/lib/python3.9/dist-packages (from requests->firebase) (1.26.15)\n",
            "Requirement already satisfied: certifi>=2017.4.17 in /usr/local/lib/python3.9/dist-packages (from requests->firebase) (2022.12.7)\n",
            "first name: Ilanit\n",
            "Last name: Hanooko\n",
            "E-mail address: ilanithanooko@gmail.com\n",
            "courses: cloud, crypto, data mining\n",
            "Last name: Spongebob\n",
            "first name: Noy\n",
            "Last name: Biton\n",
            "E-mail address: noybiton@gmail.com\n",
            "courses: cloud, crypto, data mining\n",
            "Last name: Spongebob\n",
            "{'name': '-NTNd3vnb5Ges2u0m3su'}\n"
          ]
        }
      ]
    },
    {
      "cell_type": "code",
      "source": [
        "!pip install firebase\n",
        "from firebase import firebase\n",
        "\n",
        "firebase = firebase.FirebaseApplication('https://ex-5-b6502-default-rtdb.firebaseio.com/', None)\n",
        "result = firebase.get('/students', None)\n",
        "print(result)\n",
        "\n",
        "for key in result:\n",
        "  print(key+\":\\t\", result[key])\n"
      ],
      "metadata": {
        "colab": {
          "base_uri": "https://localhost:8080/"
        },
        "id": "EYtN6wqtmnwO",
        "outputId": "34db0f70-70a5-40f8-ee39-b994f049d996"
      },
      "execution_count": 11,
      "outputs": [
        {
          "output_type": "stream",
          "name": "stdout",
          "text": [
            "Looking in indexes: https://pypi.org/simple, https://us-python.pkg.dev/colab-wheels/public/simple/\n",
            "Requirement already satisfied: firebase in /usr/local/lib/python3.9/dist-packages (4.0.1)\n",
            "Requirement already satisfied: requests in /usr/local/lib/python3.9/dist-packages (from firebase) (2.27.1)\n",
            "Requirement already satisfied: charset-normalizer~=2.0.0 in /usr/local/lib/python3.9/dist-packages (from requests->firebase) (2.0.12)\n",
            "Requirement already satisfied: certifi>=2017.4.17 in /usr/local/lib/python3.9/dist-packages (from requests->firebase) (2022.12.7)\n",
            "Requirement already satisfied: idna<4,>=2.5 in /usr/local/lib/python3.9/dist-packages (from requests->firebase) (3.4)\n",
            "Requirement already satisfied: urllib3<1.27,>=1.21.1 in /usr/local/lib/python3.9/dist-packages (from requests->firebase) (1.26.15)\n",
            "{'-NTNcwp1mnV4MM_8LZ0o': {'CoursesList': 'cloud, crypto, data mining', 'FavShow': 'Spongebob', 'LastName': 'Hanooko', 'Mail': 'ilanithanooko@gmail.com', 'Name': 'Ilanit'}, '-NTNd3vnb5Ges2u0m3su': {'CoursesList': 'cloud, crypto, data mining', 'FavShow': 'Spongebob', 'LastName': 'Biton', 'Mail': 'noybiton@gmail.com', 'Name': 'Noy'}}\n",
            "-NTNcwp1mnV4MM_8LZ0o:\t {'CoursesList': 'cloud, crypto, data mining', 'FavShow': 'Spongebob', 'LastName': 'Hanooko', 'Mail': 'ilanithanooko@gmail.com', 'Name': 'Ilanit'}\n",
            "-NTNd3vnb5Ges2u0m3su:\t {'CoursesList': 'cloud, crypto, data mining', 'FavShow': 'Spongebob', 'LastName': 'Biton', 'Mail': 'noybiton@gmail.com', 'Name': 'Noy'}\n"
          ]
        }
      ]
    }
  ]
}